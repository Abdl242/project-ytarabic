{
 "cells": [
  {
   "cell_type": "code",
   "execution_count": 7,
   "metadata": {},
   "outputs": [
    {
     "name": "stderr",
     "output_type": "stream",
     "text": [
      "[nltk_data] Downloading package punkt to\n",
      "[nltk_data]     /Users/abdellatif/nltk_data...\n",
      "[nltk_data]   Package punkt is already up-to-date!\n"
     ]
    }
   ],
   "source": [
    "import os\n",
    "os.environ[\"TOKENIZERS_PARALLELISM\"] = \"false\"\n",
    "import warnings\n",
    "warnings.filterwarnings(\"ignore\")\n",
    "import IPython.display as ipd\n",
    "from transformers import pipeline\n",
    "from pydub import AudioSegment\n",
    "import json\n",
    "\n",
    "\n",
    "from yt_dlp import YoutubeDL\n",
    "\n",
    "#from moviepy.editor import VideoFileClip\n",
    "from vosk import Model, KaldiRecognizer\n",
    "\n",
    "\n",
    "import nltk\n",
    "import re\n",
    "import textwrap\n",
    "from nltk.tokenize import sent_tokenize\n",
    "\n",
    "# تحميل ملفات NLTK المطلوبة\n",
    "nltk.download('punkt')\n",
    "\n",
    "import re\n",
    "#from textblob import TextBlob\n",
    "\n",
    "from sumy.parsers.plaintext import PlaintextParser\n",
    "from sumy.summarizers.text_rank import TextRankSummarizer\n",
    "from sumy.nlp.tokenizers import Tokenizer"
   ]
  },
  {
   "cell_type": "markdown",
   "metadata": {},
   "source": [
    "# Arabic test\n"
   ]
  },
  {
   "cell_type": "code",
   "execution_count": 8,
   "metadata": {},
   "outputs": [
    {
     "name": "stdout",
     "output_type": "stream",
     "text": [
      "[youtube] Extracting URL: https://www.youtube.com/watch?v=xNJCygkEnMI\n",
      "[youtube] xNJCygkEnMI: Downloading webpage\n",
      "[youtube] xNJCygkEnMI: Downloading ios player API JSON\n",
      "[youtube] xNJCygkEnMI: Downloading mweb player API JSON\n",
      "[youtube] xNJCygkEnMI: Downloading m3u8 information\n",
      "[info] xNJCygkEnMI: Downloading 1 format(s): 251\n",
      "[download] Destination: الخمر في الديانات الثلاث\n",
      "[download] 100% of   58.58MiB in 00:00:04 at 12.55MiB/s  \n",
      "[ExtractAudio] Destination: الخمر في الديانات الثلاث.mp3\n",
      "Deleting original file الخمر في الديانات الثلاث (pass -k to keep)\n",
      "Audio has been saved as الخمر في الديانات الثلاث\n"
     ]
    }
   ],
   "source": [
    "youtube_url = 'https://www.youtube.com/watch?v=xNJCygkEnMI'\n",
    "\n",
    "# Define the output file name\n",
    "audio_output = 'الخمر في الديانات الثلاث'\n",
    "\n",
    "# Download the audio directly using yt-dlp\n",
    "ydl_opts = {\n",
    "    'format': 'bestaudio/best',\n",
    "    'outtmpl': audio_output,\n",
    "    'postprocessors': [{\n",
    "        'key': 'FFmpegExtractAudio',\n",
    "        'preferredcodec': 'mp3',\n",
    "        'preferredquality': '192',\n",
    "    }],\n",
    "}\n",
    "\n",
    "with YoutubeDL(ydl_opts) as ydl:\n",
    "    ydl.download([youtube_url])\n",
    "\n",
    "print(f'Audio has been saved as {audio_output}')\n"
   ]
  },
  {
   "cell_type": "code",
   "execution_count": 21,
   "metadata": {},
   "outputs": [],
   "source": [
    "def voice_recognition(filename):\n",
    "    FRAME_RATE = 16000\n",
    "    CHANNELS=1\n",
    "    model = Model(model_name=\"vosk-model-ar-0.22-linto-1.1.0\")\n",
    "    rec = KaldiRecognizer(model, FRAME_RATE)\n",
    "    rec.SetWords(True)\n",
    "\n",
    "    mp3 = AudioSegment.from_mp3(filename)\n",
    "    mp3 = mp3.set_channels(CHANNELS)\n",
    "    mp3 = mp3.set_frame_rate(FRAME_RATE)\n",
    "\n",
    "    step = 45000\n",
    "    transcript = \"\"\n",
    "    for i in range(0, len(mp3), step):\n",
    "        print(f\"Progress: {i / len(mp3):.2%}\")\n",
    "        segment = mp3[i:i+step]\n",
    "        rec.AcceptWaveform(segment.raw_data)\n",
    "        result = rec.Result()\n",
    "        text = json.loads(result)[\"text\"]\n",
    "        transcript += text\n",
    "\n",
    "    return transcript"
   ]
  },
  {
   "cell_type": "code",
   "execution_count": null,
   "metadata": {},
   "outputs": [],
   "source": [
    "def format_and_number_text(text, max_line_length=80):\n",
    "    # تقسيم النص إلى جمل\n",
    "    sentences = sent_tokenize(text)\n",
    "    # تنسيق الجمل لتناسب الطول المحدد\n",
    "    wrapped_text = [textwrap.fill(sentence, width=max_line_length) for sentence in sentences]\n",
    "\n",
    "    # ترقيم الجمل\n",
    "    numbered_text = \" \".join([f\"{idx+1}. {line}\" for idx, line in enumerate(wrapped_text)])\n",
    "\n",
    "    return numbered_text"
   ]
  },
  {
   "cell_type": "code",
   "execution_count": null,
   "metadata": {},
   "outputs": [],
   "source": [
    "def split_and_punctuate(text):\n",
    "    paragraphs = re.split(r'\\n+', text)\n",
    "\n",
    "    punctuated_paragraphs = []\n",
    "    for paragraph in paragraphs:\n",
    "        sentences = re.split(r'(?<=\\w)(?=\\s+[A-Z])', paragraph)\n",
    "\n",
    "        sentences = [sentence.strip() + '.' if sentence.strip() and sentence[-1] not in ['.', '!', '?'] else sentence.strip() for sentence in sentences]\n",
    "\n",
    "        punctuated_paragraphs.append(' '.join(sentences))\n",
    "\n",
    "    final_text = \"\\n\".join(punctuated_paragraphs)\n",
    "\n",
    "    return final_text"
   ]
  },
  {
   "cell_type": "code",
   "execution_count": 24,
   "metadata": {},
   "outputs": [],
   "source": [
    "def process_text(text):\n",
    "    blob = TextBlob(text)\n",
    "    sentences = blob.sentences\n",
    "    return [str(sentence) for sentence in sentences]"
   ]
  },
  {
   "cell_type": "code",
   "execution_count": 31,
   "metadata": {},
   "outputs": [
    {
     "name": "stderr",
     "output_type": "stream",
     "text": [
      "LOG (VoskAPI:ReadDataFiles():model.cc:213) Decoding params beam=13 max-active=7000 lattice-beam=6\n",
      "LOG (VoskAPI:ReadDataFiles():model.cc:216) Silence phones 1:2:3:4:5\n",
      "LOG (VoskAPI:RemoveOrphanNodes():nnet-nnet.cc:948) Removed 1 orphan nodes.\n",
      "LOG (VoskAPI:RemoveOrphanComponents():nnet-nnet.cc:847) Removing 2 orphan components.\n",
      "LOG (VoskAPI:Collapse():nnet-utils.cc:1488) Added 1 components, removed 2\n",
      "LOG (VoskAPI:ReadDataFiles():model.cc:248) Loading i-vector extractor from /Users/abdellatif/.cache/vosk/vosk-model-ar-0.22-linto-1.1.0/ivector/final.ie\n",
      "LOG (VoskAPI:ComputeDerivedVars():ivector-extractor.cc:183) Computing derived variables for iVector extractor\n",
      "LOG (VoskAPI:ComputeDerivedVars():ivector-extractor.cc:204) Done.\n",
      "LOG (VoskAPI:ReadDataFiles():model.cc:279) Loading HCLG from /Users/abdellatif/.cache/vosk/vosk-model-ar-0.22-linto-1.1.0/graph/HCLG.fst\n",
      "LOG (VoskAPI:ReadDataFiles():model.cc:294) Loading words from /Users/abdellatif/.cache/vosk/vosk-model-ar-0.22-linto-1.1.0/graph/words.txt\n",
      "LOG (VoskAPI:ReadDataFiles():model.cc:303) Loading winfo /Users/abdellatif/.cache/vosk/vosk-model-ar-0.22-linto-1.1.0/graph/phones/word_boundary.int\n",
      "LOG (VoskAPI:ReadDataFiles():model.cc:310) Loading subtract G.fst model from /Users/abdellatif/.cache/vosk/vosk-model-ar-0.22-linto-1.1.0/rescore/G.fst\n",
      "LOG (VoskAPI:ReadDataFiles():model.cc:312) Loading CARPA model from /Users/abdellatif/.cache/vosk/vosk-model-ar-0.22-linto-1.1.0/rescore/G.carpa\n"
     ]
    },
    {
     "name": "stdout",
     "output_type": "stream",
     "text": [
      "Progress: 0.00%\n",
      "Progress: 0.97%\n",
      "Progress: 1.94%\n",
      "Progress: 2.90%\n",
      "Progress: 3.87%\n",
      "Progress: 4.84%\n",
      "Progress: 5.81%\n",
      "Progress: 6.78%\n",
      "Progress: 7.74%\n",
      "Progress: 8.71%\n",
      "Progress: 9.68%\n",
      "Progress: 10.65%\n",
      "Progress: 11.61%\n",
      "Progress: 12.58%\n",
      "Progress: 13.55%\n",
      "Progress: 14.52%\n",
      "Progress: 15.49%\n",
      "Progress: 16.45%\n",
      "Progress: 17.42%\n",
      "Progress: 18.39%\n",
      "Progress: 19.36%\n",
      "Progress: 20.33%\n",
      "Progress: 21.29%\n",
      "Progress: 22.26%\n",
      "Progress: 23.23%\n",
      "Progress: 24.20%\n",
      "Progress: 25.16%\n",
      "Progress: 26.13%\n",
      "Progress: 27.10%\n",
      "Progress: 28.07%\n",
      "Progress: 29.04%\n",
      "Progress: 30.00%\n",
      "Progress: 30.97%\n",
      "Progress: 31.94%\n",
      "Progress: 32.91%\n",
      "Progress: 33.88%\n",
      "Progress: 34.84%\n",
      "Progress: 35.81%\n",
      "Progress: 36.78%\n",
      "Progress: 37.75%\n",
      "Progress: 38.71%\n",
      "Progress: 39.68%\n",
      "Progress: 40.65%\n",
      "Progress: 41.62%\n",
      "Progress: 42.59%\n",
      "Progress: 43.55%\n",
      "Progress: 44.52%\n",
      "Progress: 45.49%\n",
      "Progress: 46.46%\n",
      "Progress: 47.43%\n",
      "Progress: 48.39%\n",
      "Progress: 49.36%\n",
      "Progress: 50.33%\n",
      "Progress: 51.30%\n",
      "Progress: 52.27%\n",
      "Progress: 53.23%\n",
      "Progress: 54.20%\n",
      "Progress: 55.17%\n",
      "Progress: 56.14%\n",
      "Progress: 57.10%\n",
      "Progress: 58.07%\n",
      "Progress: 59.04%\n",
      "Progress: 60.01%\n",
      "Progress: 60.98%\n",
      "Progress: 61.94%\n",
      "Progress: 62.91%\n",
      "Progress: 63.88%\n",
      "Progress: 64.85%\n",
      "Progress: 65.82%\n",
      "Progress: 66.78%\n",
      "Progress: 67.75%\n",
      "Progress: 68.72%\n",
      "Progress: 69.69%\n",
      "Progress: 70.65%\n",
      "Progress: 71.62%\n",
      "Progress: 72.59%\n",
      "Progress: 73.56%\n",
      "Progress: 74.53%\n",
      "Progress: 75.49%\n",
      "Progress: 76.46%\n",
      "Progress: 77.43%\n",
      "Progress: 78.40%\n",
      "Progress: 79.37%\n",
      "Progress: 80.33%\n",
      "Progress: 81.30%\n",
      "Progress: 82.27%\n",
      "Progress: 83.24%\n",
      "Progress: 84.20%\n",
      "Progress: 85.17%\n",
      "Progress: 86.14%\n",
      "Progress: 87.11%\n",
      "Progress: 88.08%\n",
      "Progress: 89.04%\n",
      "Progress: 90.01%\n",
      "Progress: 90.98%\n",
      "Progress: 91.95%\n",
      "Progress: 92.92%\n",
      "Progress: 93.88%\n",
      "Progress: 94.85%\n",
      "Progress: 95.82%\n",
      "Progress: 96.79%\n",
      "Progress: 97.76%\n",
      "Progress: 98.72%\n",
      "Progress: 99.69%\n"
     ]
    }
   ],
   "source": [
    "transcript_test = voice_recognition(\"الخمر في الديانات الثلاث.mp3\")\n",
    "#formatted_text = format_and_number_text(transcript_test)\n",
    "#output_text = split_and_punctuate(formatted_text)\n",
    "#sentences = process_text(output_text)\n"
   ]
  },
  {
   "cell_type": "code",
   "execution_count": null,
   "metadata": {},
   "outputs": [
    {
     "data": {
      "text/plain": [
       "'السلام عليكم ورحمة الله وبركاته وعليكم السلام ورحمة الله وبركاته تحفظكم الزهراء شيخنا الغالي الله يبارك فيكم يحفظكم أختكم من العراق عندي سؤال على الأكلات البحرية منهم منها أكله حلال ومن منها أكله حرام السبري رواياته إلى البيت عليهم السلام طيب طبعا الأكلات البحرية هي واضحة وضوح الشمس جدا بالنسبة للجميع الحيوانات جميع حيوانبنات البحر محرم أكلها أنا أتكلم الآن غير السمك ركزوا على النقطة غير السمة كلان سنتي على موضوع السمك نتكلم عن الحيوانات بقية الحيوانات السلطة عونه غيرها من أنواع وش كان جيد جيدا الموجودة بالبحر والقرش والحوت وأنواع وأشكال هذا قرش الحوت من الأسماك نتكلم عن الحيوانات حصان البحر وغيرها الحيوان اللي تكون موجودة بالبحر ولكن ليست من الأسماك الحيوانات الحيوانات البحرية كلها محرمة ما عدا الروبيان فقطفقط فقط الربيان كلمة الروبيان ما أطلق عليه الروبيان طبعا هنالك أيضا معركة طاحنة هذا يسمونه روبيان ولا مورو بيان ما أطلق ما عرف أنه روبيان ما هو الروبيان المعروف المتداول بينه الدول أكثر شي الدول العربية الروبيان حلالك لا بعد ما يتنظف طبعا وتبقى من عندها هي هاي القطعة الصغيرة الروبيان هذا حلال أكله بقية الحيوانات البحرية من ضمن هذا الأخطبوط وغيرها طبعا هذه السنة يحبونه هذا كله حرام كلما يجوز لكأي أكل بحرية هذا حتى كواي في القوقعة صاح اللي طلعوه يأكلوها هذا حرام أي حيوان بحري لا يجوز أكله لأنه من المنسوجات بيرا روايات طبعا الروبيان فقط من ناحية الحيوانات من ناحية الأسماك الأسماك كل سمك حرام راح يقولون ما بقيت إلا كان ذو فلس فقط بلس وهي القشور التي تكون على السمك إذاوتأتي بالسكين وتمسح على جلد على جلد السمكة على ظهر السمكة بطريقة العكس ستظهر معها قشور تعرفونها انتم اللي بالتنظيف تطلع بالبيت أو في أماكن تنظيف بيع الأسماك هذا اسمه الفلس طبعا بعض المعممين يغلطون فيقولون فليس بالسادة بتشتري بي معلف لوسادا بليس فلوس اسمها فعلت مجلس ثالث الفلس هو قشور السمكة وشهور السنة كما هي هاي اللي يحكوا ظهرها ينفوهااسمه سموه الصدف في بعض الدول سمونا الصدف في بعض الدول والصدف أو الصدفة أنهم يطلقون عليه هذا الاسم إلي هو اسمعه هو اسمه الثلاث والسمك أشور السمك بعض الدول الصدف السمك ما اعرف بعد شنو أنسى لها اسماء السمكة الذي يكون فيه هذا الشيء حلال أكو طبعا بعض السمك يكون ناعم جدا ناعم جدا ناعم مثل هذا شنو اسمه أتوقع هذاأوسيميكي يكون جدا نعم معروف يؤكل في البصرة وفي دول الخليج أيضا السمكة الزويدي صح بتكون سمكة عريضة سبحان الله يا جميلة سمكة عريضة يكون قشورها جدا ناعمة الصغير هذا لا إشكال فيه المهم فيها قشور يعني علميا إذا تبحث عنها في الجوجل بقولك هذا السمك من ذوات القشور ناعمة كبيرة مو مشكلة مو مشكلة أهم شي أهم شيء تكون بها وشهور هذه مو مشكلة طبعا الموضوعتونة سمكة تونة وغير التونة وسمك هذا كله يدخل في قاعدة هل له قشور أو لا لازم الله صدف هؤلاء قال له فلس أو لا إحنا بعض الشباب بالدول الغربية يجي يأكل تونة وهذا ما يجوز حرام وهذا التونة ممكن مع الحوت دونما القرش هنا عصا السلام الله عليه وسلم مسلم سني موحد ياك القنادر يحطونه بالعلم قنابر نص حظه من أبو بكر لذا حذرا حتى راسمين عليها أبو بكر هو لابسه يا أخي كل شيء كل هذا ولكن قناة يقدر المعل بينتموا معناهم يبقون هلال أنت لازم تيجي تشتري منهم السماءكويت إذا لا تعلم هل هو سمك فيه صدف فيه قشور أو لا ما يجوز تاكلي أيسر مثل بالضبط حكمه حكمه الخاروف حكمه حكمه الدجاجة علال ذبحت أم حرام بالضبط بالضبط بعض الأخوة هنا أو أذكر قبل فترة قبس سنة يأكلون تونة يقولون شيخنا حلال عصا السلام السنة بيعوها بمحلاتهم صدقهم هنا يبيعون توني عندهم عادي أنا بقيت لي أحد الإخوة هم كانواكم شخص مثله تعرف هذه تونا التى كانت عارفة يعني إيه سمت بعد وطأة شي طالع من المياه شو طالع من الماء بها صدف بها بها قشور فلس بها وإلا ما به هو بالصافي شنو شنو لون تاكل شي تم ما تعرفها حلال ولا حرام كان هو مفكر إنه أي سمكة حلال يعني ما أخذ حكمه السنة الحل لي لكم ما في عائشة وما يخرجه منها مبهر الطريقة الحلية تكون طبقا روايات منتجة بكيفك بالبر وما في البحر تروح تاكل أسود لا يجوز أكل تمساح سنة ياكلون لكصرنا الجزيرة بالضبط بالضب هذا خايص مخلوق قذر سبعة الله قدر قدر مثل الوزر الضب مثل الوزغ شكلا وقذارة خلقا وخلقا ويركض بص غير كبر ورائي عظة يعارض يطيح به ويعظم مو هنا المصيبة المصيبة عمر بن الخطاب هو اللي افتى قال العش لا ضبط نوع واحد أحب إلي من عشرة دجاجات ضب واحد ضبط واحد بالصحراء عمر رواية موجودة عندي السنة لا ضب واحد لأحب إلي من عشرة دجاجات هذاكان بالصحراء ياكل الضب راح يقولون شيخنا عاد بالمدينة ما كانوا داخلها المدينة ما يأكلون الضب هذا بالصحراء دائما يصعدا خالد عجب بل ويجوع تدرون أنتم ياسر فيهم البحث عن شجرته ماء الرجال يصرف سعرات حرارية وكان له أيوه أي تعب للأكل اللي عندها ينظم من الشغل والتعب والبحث عن هذه الشجرة العظيمة الشجرة ماهر الرجال شو شو شو شوف شلون فسر لك يعني شوف والله بطيئة حظ مراجع الشيعة لاعبيهم يلاقي يلعبان والله يتعب منطق تفسيره بسهولة مع هدفها كيربي ليش عمر ياكين الضابط لين عاش في الصحراء خالد ديريك شو استغفروا الله ارتكبوه دي ركبه ما يصير يبحث عن شجرة مع الرجال شجرة عيدعظيمة كان يتداوى بها سيدنا عمر بن الخطاب وهو كان مصاب بداء اسمه دائل ابنة فهذا عمر شايف الضب يومنا كان جعان كان له خالد نحن منا أن نرجع للمدينة يحتاجون إلى أبو خمس ساعات أسسه أو قدامنا السيطرات وتاي وضحية تعبانة يا ليب لك الضمة انها وكلاهما شو شفة طيب مره ثانية كلام مرة ثالثة ثكنة زوجي الطبل المدينة قال يوما بالضب الي الصحراء طيب لو عمر تجسسه همك أنت تأكد الضابط قعدنا نشتغل ونشتغل لهم خالد شعلة كما أنتم نشتغل بس اللي يحب يشارك الضب فإنه أحبه إلي من عشرة دجاجات وانتشرت عند السنة والآن بالسعودية تلو نظم ياكلون الضبعة كله تمساحيأكلونه قروضه مو يكلم كل شي السنة عندهم حلال أي شيء يأكل هذه ملاحظة نقطة جدا مهمة للشيعة الذين يعيشون في دول غربية أنتبه منهم ذلك الشيء أكلو مرة مرة انسجنت أنا في فرنسا الحمد لله ري السجون مائة مائة الحمد لله على هذه النعمة عم شكرا لك اللهم بارك لنا فيها ورزقنا عليها أجرى والثناء انسجنت فترة في فرنسا ومع صارت مشاكل وراد ردة تصير مو مصيبة وراد يصير قتلوا واختياربيت عائشة بالسجن ونعطي التربة بهم وكانوا عصا السلام من جزائر ومغرب وسوريا عليه ربما دينهم فلنجتمع الله لم أتذكر المهم يعني طلعت طلعت حماية ليتخيل اطلعت طلعوني من السجن حماية لي خلص انت ممكن يظل يقتلونك يغتالونه خلص مدتك أنت كانت مدة بسيطة يوم من الأيام قاعدين إحنا في السجن جرس الغداء يعني قد حان وقت الغداء حسب التوقيت المحلي لمدينة باريس وضواحي تنزل إلى مطبخه أنا أول يوم هو اليوم معهمجدي الجيني كل واحد ياخذ طبق طبعا صينيا هذا اللي تكون بها مقطعة إلى أجزاء حتى يضعون لك فيها الأطعمة طبعا أنت لازم نمدد هذا وهم يصبون الطعام مالك حق تختار أو تختار ميستر هو يصب لك وخلص روح نصب محط روز وحط مرق محطة صلد وما أعرفك كوفة خبزة صغيرة أو شيء الله طبعا يميقال السيد يمين نوعا من كل مكان كانوا يحبوني أنهم قدرهم أنت بينها وبينه وبينهم علاقة كبيرة زيت شفت لك بالله هذا رزما بشيء هذه خبز كوسكو على صغيرة جدا بس أنا ما شفت المركب الآن جالس جالسة أنتبه له شفت به لحم أعجبت أنا شلون اسوي اللي حمزان تقول شلون يعني المصيبة هي الموجودة طبعا غالبية مسلمين أكم من كم دولة بس غالبية المسلمين بالسجن كان في شخص مترجم هو يتكلم فرنسي وألماني إن كان فيه جنسيآيات كثيرة بس سألت له هذا اللحم حلال قال لا إحنا ما نجيب حالات وتفاجأ طبعا هو تفاجأ وكان مغربي ليش أنت تسعد شلون أنا أعادت أعرف حلال ولا حرام قال لي يا إخوانك المسلمين كلهم يأكلون يقولون بسم الله لا أنا ما علي بيهم أنا كنت يمشي الوضع طبيعي يعني ممكن يكذب جيت جلست اللي بصفي عرف موضوعي أعرف إنه أنا ما عجبني موضوع اللحم كان فكوني أقول بسم الله يصر حرمها لم يذكر عليه اسم الله قال يا أخي محارب ما فيه حرام أنت قلت بسم الله سرحان واللهالعدم كان جزائري مصر كان ما تريده أنت لا ما هو من كافه شان هذا الصينية ننزل المارقة عنده أنا تعجبت قلت له أنت مسلم قال لي مسلم بس بسنة واحدة حمد والله يجوز أن يزيد ثلاث سنين تأكيد هذا حرام ما يصير كان له الحمد لله إحنا سألنا علمائنا ومشايخنا ولنا أنه يجوز أكل أي لحم غريب فعلا هذه عندهم فعلا قاعدنا نتحقق من الموضوع فعلين إنه إذا أنت عندك لحم مذبوح حرام تقول عليه بسم الله يصير حلالهذه بعد مثل عائشة كانت تقول بسم الله تطلع صدرها ترضع بالضبط صديقي كل ما يصير الغدي جيمي هو حتى يستفاد ياخذ المبارك هو فعلا كل ما آخر ثورة أنا أول شيء أحاول إيش اللي يعيشون بالغرب انتبهوا يعني الدولة مشكلة دولة السائدة هو يبيع لحم حلال بها مجال يذبحون بس كسمك سنرجع للموضوع السمك هم يأكلون كل شيء بالبحر أي سمكة يأكلوها معروفين سنة العراق يأكلون الجري هذا الخائن يموتون عجر إضرابهم دينهم الجرونجرهم شيخ حكمة بن السرح قال هو والله حلوه الشيخ نعاس سيدك حلوة والله راح ينقصها شيخنا سعيد يا شيخنا مو مشكلة عيدها لكم السنة بالعراق يحبون السمك الجري ولأنه جري الشيخ حكمة الأنبار جرهم وجروا ولدهم جره وحده على السمعة شجر المهم نرجع لموضوعنا السمك لا يجوز أكله إلا أن يكون له فلس للصغير بلس كبير القشور وإلا لا يجوز أكله حرامموضوع سمكة تونة هنا بأوروبا هنالك أربعة أنواع الآن آه خلا خبوا علي بلغني ثلاثة أنواع تقريبا ما بها فلس التونس تونس واحد بها فلس فقط لازم تنتبهون لازم تنتبهوا لهذا الموضوع'"
      ]
     },
     "execution_count": 6,
     "metadata": {},
     "output_type": "execute_result"
    }
   ],
   "source": [
    "parser = PlaintextParser.from_string(formatted_text, Tokenizer('arabic'))\n",
    "\n",
    "summarizer = TextRankSummarizer()\n",
    "summary_textrank = summarizer(parser.document, 3)"
   ]
  },
  {
   "cell_type": "code",
   "execution_count": null,
   "metadata": {},
   "outputs": [
    {
     "data": {
      "text/plain": [
       "'السلام عليكم ورحمة الله وبركاته وعليكم السلام ورحمة الله وبركاته تحفظكم الزهراء شيخنا الغالي الله يبارك فيكم يحفظكم أختكم من العراق عندي سؤال على الأكلات البحرية منهم منها أكله حلال ومن منها أكله حرام رواياته إلى البيت عليهم السلام طيب طبعا الأكلات البحرية هي واضحة وضوح الشمس جدا بالنسبة للجميع الحيوانات جميع حيوانبنات البحر محرم أكلها أنا أتكلم الآن غير السمك ركزوا على النقطة غير السمة كلان سنتي على موضوع السمك نتكلم عن الحيوانات بقية الحيوانات السلطة عونه غيرها من أنواع وش كان جيد جيدا الموجودة بالبحر والقرش والحوت وأنواع وأشكال هذا قرش الحوت من الأسماك نتكلم عن الحيوانات حصان البحر وغيرها الحيوان اللي تكون موجودة بالبحر ولكن ليست من الأسماك الحيوانات الحيوانات البحرية كلها محرمة ما عدا الروبيان فقطفقط فقط الروبيان كلمة الروبيان ما أطلق عليه الروبيان طبعا هنالك أيضا معركة طاحنة هذا يسمونه روبيان ولا مورو بيان ما أطلق ما عرف أنه روبيان ما هو الروبيان المعروف المتداول بينه الدول أكثر شي الدول العربية الروبيان حلالك لا بعد ما يتنظف طبعا وتبقى من عندها هي هاي القطعة الصغيرة الروبيان هذا حلال أكله بقية الحيوانات البحرية المنظمة هذا الأخطبوط وغيرها طبعا هذه السنة يحبونهم هذا كله حرام كلما يجوزكماأي أكل بحرية هذا حتى كواي في القوقعة صاح اللي طلعوه يأكلوها هذا حرام أي حيوان بحري لا يجوز أكله لأنه من المنسوجات روايات طبعا الروبيان فقط من ناحية الحيوانات من ناحية الأسماك الأسماك كل سمك حرام راح يقولون ما بقيت إلا ما كان ذو فلس فقط بلس وهي القشور التي تكون على السمك إذاوتأتي بالسكين وتمسح على جلد على جلد السمكة على ظهر السمكة بطريقة العكس ستظهر معها قشور تعرفونها انتم اللي بالتنظيف تطلع بالبيت أو في أماكن تنظيف بيع الأسماك هذا اسمه الفلس طبعا بعض المعممين غلطوا يقولون فيليس بالسعادة تشتري بي لوساكا بلس فلوس اسمها فعله مجلس الثالث الفلس هو قشور السمكة وشهور السمكة ما هي هذه اللي يحكوا ظهرها ينفوهااسمه سموه الصدف في بعض الدول سمونا الصدف في بعض الدول والصدف أو الصدفة لم يطلقون عليه هذا الاسم إلي هو اسمه هو اسم الثلاث والسمك أشور السمك بعض الدول الصدفة السمك ما اعرف بعد شنو نسوي لها اسماء السمكة الذي يكون فيه هذا الشيء حلال أكو طبعا بعض السمك يكون ناعم جدا ناعم جدا ناعم مثل هذا شنو اسمه أتوقع هذاأوسيميكي يكون جدا نعم معروف يؤكل في البصرة وفي دول الخليج أيضا السمكة الزويدي صح بتكون سمكة عريضة سبحان الله يا جميلة سمكة عريضة وهذا يكون قشورها الجدا ناعمة الصغير هذا لا إشكال فيه المهم فيها قشور يعني علميا إذا تبحث عنها في الجوجل بقولك هذا السمك من ذوات القشور ناعمة كبيرة مو مشكلة مو مشكلة أهم شي أهم شيء تكون بها والشهور هذه مو مشكلة طبعا الموضوعالتونة سمكة تونة وغير التونة وسمك هذا كله يدخل في قاعدة هل له قشور أو لا لازم له صدف هؤلاء قال له فلس أو لا إحنا بعض الشباب بالدول الغربية يجي يأكل تونة لا يجوز حرام هذا التونة ممكن مع الحوت دونما القرش هنا عصا السلام الصلوي عليه وسلم مسلم سني موحد ياك القنادر يحطونه بالعلم قنابر نص حظه من أبو بكر لذا حذرا حتى راسمين عليها أبو بكر هو لابسه يا أخي كل شيء كل واللي ياكلون القنادر الملعب بينتموا معناهم ويبقون هلال أنت لازم تيجي تشتري منهم السماءكويت إذا لا تعلم هل هو سمك فيه صدف فيه قشور أو لا ما يجوز تاكلي أيسر بالضبط حكمه حكمه الخاروف حكمه حكمه الدجاجة علال ذبحت أم حرام بالضبط بالضبط بعض الأخوة هنا أنا أذكر قبل فترة قبس سنة يأكلون تونة يقولون شيخنا حلال عصا السلام السنة بيعوها بمحلاتهم صدقهم هنا يبيعون توني عندهم عادي أنا بقيت لي أحد الإخوة كانواكم شخص مثله تعرف هذه توني التى كانت عارفة يعني إيه سمت بعد وطنهم شي طالع من المياه شو طالع من الماء بها صادف بها بها قشور فلس بيها واللي ما به هو الصافي شلون لون تاكل شيئا تم ما تعرفها حلال ولا حرام كان هو مفكر إنه أي سمكة حلال يعني ما أخذ حكمه السنة الحل اللي لكم ما في عائشة وما يخرجه منها مبهر الطريقة الحلية تكون طبقا روايات منتجة بكيفك بالبر وما في البحر تحتك الأسود ما يجوز أكل التمساح سنة يأكلون لكصرنا الجزيرة بالضبط هذا خالص مخلوق قذر سبعة الله قدر قدر مثل الوزر الضب مثل الوزغ شكلا وقذارة خلقا وخلق ويركض بص غير كبر ورائي عظة يعاد ضبطه به ويعظم مو هنا المصيبة المصيبة عمر بن الخطاب هو اللي افتى قال عش لا ضبط نوع واحد أحب إلي من عشرة دجاجات ضب واحد ضبط واحد بالصحراء عمر رواية موجودة عندي السنة لا ضب واحد لي لأحب إلي من عشرة دجاجات هذابالصحراء ياكل الضب راح يقولون شيخنا عاد بالمدينة ما كانوا داخلها المدينة ما يأكلون الضب هذا بالصحراء دائما يصعدا خالد عجب بل ويجوع تدرون أنتم يسرفون البحث عن شجرته ما الرجال يصرف سعرات حرارية وكان له أيوه أي تعب للأكل اللي عندها ينهضوا من الشغل والتعب والبحث عن هذه الشجرة العظيمة شجرة ماهر الرجال شو شو شو شوف شلون فسر لك يعني شوف والله مطيع حظ راجع الشيعة لاعبيهم يلاقي اللاعبان والله يتعب منطق تفسيره بسهولة مع هدفها كيربي ليش عمر ياكين الضابط لين عاش في الصحراء خالد ديريك شو استغفروا الله ارتكبوه دي ركبه ما يصير يبحث عن شجرة مع الرجال شجرة عيدعظيمة كان يتداوى بها سيدنا عمر بن الخطاب وهو كان مصاب بداء اسمه دائل ابنة فهذا عمر شايف الضب يومنا كان جعان كان له خالد نحن منا أن نرجع للمدينة يحتاجون إلى أبو خمس ساعات أسسه أو قدامنا السيطرات وتاي وضحية تعبانة يا ليب لك الضمة انها وكلاهما شو شفة طيب مره ثانية كلام مرة ثانية ثكنة زوجي الطبل المدينة قال يوما بالضب الي الصحراء طيب لو عمر تجسسه همك أنت تأكد الضابط قعدنا نشتغل ونشتغل لهم خالد شعلة كما أنتم نشتغل بس اللي يحب يشارك الضب فإنه أحبه إلي من عشرة دجاجات وانتشرت عند السنة والآن بالسعودية تلو نظم ياكلون الضبعة كله تمساحيأكلونه قروضه مو يكلم كل شي السنة عندهم حلال أي شيء يأكل هذه ملاحظة نقطة جدا مهمة للشيعة الذين يعيشون في دول غربية أنتبه منهم ذلك الشيء أكلو مرة مرة سجني أنا في فرنسا الحمد لله خري السجون مائة مائة الحمد لله على هذه النعمة عم شكرا لك اللهم بارك لنا فيها ورزقنا عليها لا جرى والثناء انسجنت فترة في فرنسا ما صارت مشاكل وراد ركبك تصير مو مصيبة يراد يصير قتل واغتيالبيت عائشة بالسجن ونعطي التربة بهم وكانوا عصا السلام من جزائر ومغرب وسوريا نحن عليه ربما دينهم فلنجتمع الله لم أتذكر المهم يعني طلعت طلعت حماية ليتخيل اطلعت طلعوني من السجن حماية لي خلص انت ممكن يظل يقتلونك يغتالونه خلص مدتك أنت كانت مدة بسيطة يوم من الأيام قاعدين إحنا في السجن جرس الغداء يعني قد حان وقت الغداء حسب التوقيت المحلي لمدينة باريس وضواحي تنزل إلى مطبخه أنا أول يوم هو اليوم معهمجدي الجيني كل واحد ياخذ طبق طبعا صينيا هذا اللي تكون بها مقطعة إلى أجزاء حتى يضعون لك فيها الأطعمة طبعا أنت لازم نمدد هذا وهم يصبون الطعام مالك حق تختار أو تختار ميستر هو يصب لك وخلص روح نصب محط روز وحط مرق وحط صلد وما أعرفك كوفة خبزة صغيرة أو شيء الله طبعا يميقال السيد نوعا من كل مكان كانوا يحبوني أنت بينها وبينه وبينهم علاقة كبيرة زيت شفت لك بالله هذا رزما بشيء هذه خبز طبعا كوسكو على صغيرة جدا بس أنا ما شفت المركب الآن جالس جالسة أنتبه له شفت به لحم أعجبت أنا شلون اسوي اللي حمزان تقول شلون يعني المصيبة هي الموجودة طبعا غالبية مسلمين أكم من كم دولة بس غالبية المسلمين بالسجن كان في شخص مترجم هو يتكلم فرنسي وألماني إن كان فيه جنسيآيات كثيرة بس سألت له هذا اللحم حلال قال لا إحنا ما نجيب حالات وتفاجأ طبعا هو تفاجأ وكان مغربي ليش أنت تسعد شلون أنا أعادت أعرف حلال ولا حرام قال لي يا إخوانك المسلمين كلهم يأكلون يقولون بسم الله لا أنا ما علي بيهم أنا كنت يمشي الوضع طبيعي يعني ممكن يكذب جيت جلست اللي بصفي عرف موضوعي أعرف إنه أنا ما عجبني موضوع اللحم الكل فكوني أقول بسم الله يصر حرمها لم يذكر عليه اسم الله قال يا أخي محارب ما فيه حرام أنت قلت بسم الله سرحان واللهالعدم كان جزائري مصر كان ما تريده أنت لا ما هو من كافه شان هذا الصينية ننزل المارقة عنده أنا تعجبت قلت له أنت مسلم قال لي مسلم بس بسنة واحدة حمد والله يجوز أن يزيد تاكيد هذا حرام ما يصير كان له الحمد لله إحنا سألنا علمائنا ومشايخنا ولنا أنه يجوز أكل أي لحم غريب فعلا هذه عندهم فعلا قاعدنا نتحقق من الموضوع فعلين إنه إذا أنت عندك لحم مذبوح حرام تقول عليه بسم الله يصير حلالهذه بعد مثل عائشة كانت تقول بسم الله تطلع صدرها ترضع بالضبط صديقي كل ما يصير الغدية جيمي هو حتى يستفاد ياخذ المبارك هو فعلا كل ما آخر ثورة أنا أول شيء أحاول إيش اللي يعيشون بالغرب انتبهوا يعني الدولة مشكلة دولة السائدة هو يبيع لحم حلال بها مجال يذبحون بس كسمك سنرجع للموضوع السمك هم ياكلون كل شيء بالبحر أي سمجة يأكلوها معروفين سنة العراق يأكلون الجري هذا الخائن شخص يموتون عجر إضرابهم دينهم الجرمثالي شيخ حكمت بن السرح قال هو والله حلوه الشيخ نعاس تريدك حلوة إيه والله راح ينقصها شيخنا سعيد يا شيخنا مو مشكلة أعيدها لكم السنة بالعراق يحبون السمك الجري ولأنه جري الشيخ حكمة الأنبار جرهم وجرهم والدهم جره وحده على السمعة شجر المهم نرجع لموضوعنا السمك لا يجوز أكله إلا أن يكون له فلس للصغير بلس كبير القشور وإلا لا يجوز أكله حرامموضوع سمكة التونة هنا بأوروبا هنالك أربعة أنواع الآن آه خلا خبوا علي بلغني ثلاثة أنواع تقريبا ما بها فلس التونس توني وواحد بها فلس فقط لازم تنتبهون لازم تنتبهوا لهذا الموضوع'"
      ]
     },
     "execution_count": 28,
     "metadata": {},
     "output_type": "execute_result"
    }
   ],
   "source": [
    "transcript_test"
   ]
  },
  {
   "cell_type": "code",
   "execution_count": 32,
   "metadata": {},
   "outputs": [],
   "source": [
    "with open(\"totranslate.txt\", \"w\") as file:\n",
    "    file.write(transcript_test)"
   ]
  },
  {
   "cell_type": "code",
   "execution_count": null,
   "metadata": {},
   "outputs": [
    {
     "name": "stdout",
     "output_type": "stream",
     "text": [
      "Detected Language: en\n"
     ]
    }
   ],
   "source": [
    "import langid\n",
    "\n",
    "text = \"salut\"\n",
    "language = langid.classify(text)\n",
    "print(f\"Detected Language: {language[0]}\")"
   ]
  },
  {
   "cell_type": "code",
   "execution_count": 5,
   "metadata": {},
   "outputs": [
    {
     "name": "stdout",
     "output_type": "stream",
     "text": [
      "Detected Language: ar\n"
     ]
    }
   ],
   "source": [
    "from google.cloud import translate_v2 as translate\n",
    "\n",
    "client = translate.Client()\n",
    "\n",
    "text = \"الخمر في الديانات الثلا\"\n",
    "response = client.detect_language(text)\n",
    "print(f\"Detected Language: {response['language']}\")"
   ]
  },
  {
   "cell_type": "code",
   "execution_count": 2,
   "metadata": {},
   "outputs": [],
   "source": [
    "import openai\n",
    "def application_gpt(text):\n",
    "    \"\"\"\n",
    "    Processes the input text and sends it to ChatGPT for transformation\n",
    "    into an exhaustive, structured Markdown format.\n",
    "    \"\"\"\n",
    "    # Define the API key\n",
    "    API_KEY = os.environ.get(\"API_KEY\")\n",
    "    openai.api_key = API_KEY\n",
    "\n",
    "    # Set up the prompt for Markdown rewriting\n",
    "    prompt = f\"\"\"\n",
    "    You will receive a transcripted text. Your task is to rewrite it in an exhaustive, detailed manner, organizing it into a structured format using Markdown. The rewritten content should include the following elements:\n",
    "\n",
    "    1. **Introduction:** Summarize the context or purpose of the text in a concise opening section.\n",
    "    2. **Main Sections:** Break down the content into logically organized sections with appropriate headings and subheadings (`#`, `##`, `###`, etc.).\n",
    "    3. **Key Points:** Expand on the details, making sure all relevant information is included, clarified, and well-organized.\n",
    "    4. **Lists:** Use bullet points (`-`) or numbered lists (`1.`, `2.`) to outline key ideas, steps, or concepts where appropriate.\n",
    "    5. **Emphasis:** Highlight important terms, phrases, or points using bold (`**bold**`) or italic (`*italic*`) styling as needed.\n",
    "    6. **Conclusion:** Provide a concluding section summarizing the key takeaways or insights from the text.\n",
    "\n",
    "    Ensure the rewritten text is clear, engaging, and easy to read. You may add clarifying details to enhance understanding but stay true to the original message.\n",
    "    The text to process is below:\n",
    "\n",
    "    {text}\n",
    "    \"\"\"\n",
    "\n",
    "    try:\n",
    "        # Send the prompt to ChatGPT\n",
    "        client = openai.OpenAI(api_key=API_KEY)\n",
    "        completion = client.chat_completions.create(\n",
    "            model=\"gpt-4o\",\n",
    "            messages=[\n",
    "                {\"role\": \"assistant\", \"content\": prompt},\n",
    "                {\"role\": \"user\", \"content\": text}\n",
    "            ],\n",
    "            max_tokens=2000\n",
    "        )\n",
    "\n",
    "        return completion['choices'][0]['message']['content']\n",
    "    except Exception as e:\n",
    "        print(f\"GPT ISSUE: {e}\")\n"
   ]
  },
  {
   "cell_type": "code",
   "execution_count": 1,
   "metadata": {},
   "outputs": [],
   "source": [
    "import os\n",
    "from openai import OpenAI\n",
    "API_KEY = os.environ.get(\"API_KEY\")\n",
    "\n",
    "client =OpenAI(api_key=API_KEY)"
   ]
  },
  {
   "cell_type": "code",
   "execution_count": null,
   "metadata": {},
   "outputs": [
    {
     "name": "stdout",
     "output_type": "stream",
     "text": [
      "absl-py==2.1.0\n",
      "aiohappyeyeballs==2.4.4\n",
      "aiohttp==3.11.9\n",
      "aiosignal==1.3.1\n",
      "annotated-types==0.7.0\n",
      "anyio==4.6.2.post1\n",
      "appnope==0.1.4\n",
      "arabic-reshaper==3.0.0\n",
      "asttokens==2.4.1\n",
      "async-timeout==5.0.1\n",
      "attrs==24.2.0\n",
      "beautifulsoup4==4.12.3\n",
      "breadability==0.1.20\n",
      "bs4==0.0.2\n",
      "cached-property==2.0.1\n",
      "cachetools==5.5.0\n",
      "certifi==2024.8.30\n",
      "cffi==1.17.1\n",
      "chardet==5.2.0\n",
      "charset-normalizer==3.4.0\n",
      "click==8.1.7\n",
      "comm==0.2.2\n",
      "commonmark==0.9.1\n",
      "debugpy==1.8.9\n",
      "decorator==5.1.1\n",
      "dictdiffer==0.9.0\n",
      "distro==1.9.0\n",
      "docopt==0.6.2\n",
      "exceptiongroup==1.2.2\n",
      "executing==2.1.0\n",
      "ffmpeg==1.4\n",
      "filelock==3.16.1\n",
      "frozenlist==1.5.0\n",
      "fsspec==2024.10.0\n",
      "gensim==3.6.0\n",
      "google-api-core==2.23.0\n",
      "google-auth==2.36.0\n",
      "google-cloud==0.34.0\n",
      "google-cloud-core==2.4.1\n",
      "google-cloud-translate==3.18.0\n",
      "googleapis-common-protos==1.66.0\n",
      "grpc-google-iam-v1==0.13.1\n",
      "grpcio==1.68.1\n",
      "grpcio-status==1.68.1\n",
      "h11==0.14.0\n",
      "httpcore==1.0.7\n",
      "httpx==0.28.0\n",
      "huggingface-hub==0.26.3\n",
      "idna==3.10\n",
      "imageio==2.36.1\n",
      "imageio-ffmpeg==0.5.1\n",
      "ipykernel==6.29.5\n",
      "ipython==8.29.0\n",
      "jedi==0.19.2\n",
      "Jinja2==3.1.4\n",
      "jiter==0.8.0\n",
      "joblib==1.4.2\n",
      "jupyter_client==8.6.3\n",
      "jupyter_core==5.7.2\n",
      "langid==1.1.6\n",
      "lxml==5.3.0\n",
      "markdownify==0.14.1\n",
      "MarkupSafe==3.0.2\n",
      "matplotlib-inline==0.1.7\n",
      "md2notion==2.4.1\n",
      "mistletoe==1.4.0\n",
      "moviepy==2.1.1\n",
      "mpmath==1.3.0\n",
      "multidict==6.1.0\n",
      "nest-asyncio==1.6.0\n",
      "networkx==3.4.2\n",
      "nltk==3.9.1\n",
      "notion==0.0.28\n",
      "notion-client==2.2.1\n",
      "numpy==2.1.3\n",
      "openai==0.28.0\n",
      "packaging==24.2\n",
      "parso==0.8.4\n",
      "pexpect==4.9.0\n",
      "pillow==10.4.0\n",
      "platformdirs==4.3.6\n",
      "proglog==0.1.10\n",
      "prompt_toolkit==3.0.48\n",
      "propcache==0.2.1\n",
      "proto-plus==1.25.0\n",
      "protobuf==5.29.0\n",
      "psutil==6.1.0\n",
      "ptyprocess==0.7.0\n",
      "pure_eval==0.2.3\n",
      "PyArabic==0.6.15\n",
      "pyasn1==0.6.1\n",
      "pyasn1_modules==0.4.1\n",
      "pycountry==24.6.1\n",
      "pycparser==2.22\n",
      "pydantic==2.10.3\n",
      "pydantic_core==2.27.1\n",
      "pydub==0.25.1\n",
      "Pygments==2.18.0\n",
      "python-bidi==0.6.3\n",
      "python-dateutil==2.9.0.post0\n",
      "python-dotenv==1.0.1\n",
      "python-slugify==8.0.4\n",
      "PyYAML==6.0.2\n",
      "pyzmq==26.2.0\n",
      "regex==2024.11.6\n",
      "requests==2.29.0\n",
      "rouge-score==0.1.2\n",
      "rsa==4.9\n",
      "safetensors==0.4.5\n",
      "scikit-learn==1.5.2\n",
      "scipy==1.14.1\n",
      "six==1.16.0\n",
      "smart-open==7.0.5\n",
      "sniffio==1.3.1\n",
      "soupsieve==2.6\n",
      "srt==3.5.3\n",
      "stack-data==0.6.3\n",
      "summa==1.2.0\n",
      "sumy==0.11.0\n",
      "sympy==1.13.1\n",
      "text-unidecode==1.3\n",
      "threadpoolctl==3.5.0\n",
      "tokenizers==0.20.3\n",
      "torch==2.5.1\n",
      "tornado==6.4.2\n",
      "tqdm==4.67.1\n",
      "traitlets==5.14.3\n",
      "transformers==4.46.3\n",
      "typing_extensions==4.12.2\n",
      "tzlocal==5.2\n",
      "urllib3==1.26.20\n",
      "vosk==0.3.44\n",
      "wcwidth==0.2.13\n",
      "websockets==14.1\n",
      "wrapt==1.17.0\n",
      "yarl==1.18.3\n",
      "-e git+ssh://git@github.com/Abdl242/project-ytarabic.git@f5a2301399133714884f5b9971b1c12ca31f378e#egg=yt_arabic\n",
      "yt-dlp==2024.11.18\n"
     ]
    }
   ],
   "source": [
    "client.chat.completions.create"
   ]
  },
  {
   "cell_type": "code",
   "execution_count": null,
   "metadata": {},
   "outputs": [],
   "source": [
    "def application_gpt(text,client):\n",
    "    \"\"\"\n",
    "    Processes the input text and sends it to ChatGPT for transformation\n",
    "    into an exhaustive, structured Markdown format.\n",
    "    \"\"\"\n",
    "    # Define the API key\n",
    "    API_KEY = os.environ.get(\"API_KEY\")\n",
    "\n",
    "    # Set up the prompt for Markdown rewriting\n",
    "    prompt = f\"\"\"\n",
    "    You will receive a transcripted text. Your task is to rewrite it in an exhaustive, detailed manner, organizing it into a structured format using Markdown. The rewritten content should include the following elements:\n",
    "\n",
    "    1. **Introduction:** Summarize the context or purpose of the text in a concise opening section.\n",
    "    2. **Main Sections:** Break down the content into logically organized sections with appropriate headings and subheadings (`#`, `##`, `###`, etc.).\n",
    "    3. **Key Points:** Expand on the details, making sure all relevant information is included, clarified, and well-organized.\n",
    "    4. **Lists:** Use bullet points (`-`) or numbered lists (`1.`, `2.`) to outline key ideas, steps, or concepts where appropriate.\n",
    "    5. **Emphasis:** Highlight important terms, phrases, or points using bold (`**bold**`) or italic (`*italic*`) styling as needed.\n",
    "    6. **Conclusion:** Provide a concluding section summarizing the key takeaways or insights from the text.\n",
    "\n",
    "    Ensure the rewritten text is clear, engaging, and easy to read. You may add clarifying details to enhance understanding but stay true to the original message.\n",
    "    The text to process is below:\n",
    "\n",
    "    {text}\n",
    "    \"\"\"\n",
    "\n",
    "    try:\n",
    "        # Send the prompt to ChatGPT\n",
    "        #client = openai.OpenAI(api_key=API_KEY)\n",
    "        completion = client.chat.completions.create(\n",
    "            model=\"gpt-4o\",\n",
    "            messages=[\n",
    "                {\"role\": \"assistant\", \"content\": prompt},\n",
    "                {\"role\": \"user\", \"content\": text}\n",
    "            ],\n",
    "            max_tokens=2000\n",
    "        )\n",
    "\n",
    "        return completion['choices'][0]['message']['content']\n",
    "    except Exception as e:\n",
    "        print(f\"GPT ISSUE: {e}\")\n"
   ]
  },
  {
   "cell_type": "code",
   "execution_count": null,
   "metadata": {},
   "outputs": [],
   "source": [
    "prompt = \"\"\"\n",
    "    You will receive a transcripted text. Your task is to rewrite it in an exhaustive, detailed manner, organizing it into a structured format using Markdown. The rewritten content should include the following elements:\n",
    "\n",
    "    1. **Introduction:** Summarize the context or purpose of the text in a concise opening section.\n",
    "    2. **Main Sections:** Break down the content into logically organized sections with appropriate headings and subheadings (`#`, `##`, `###`, etc.).\n",
    "    3. **Key Points:** Expand on the details, making sure all relevant information is included, clarified, and well-organized.\n",
    "    4. **Lists:** Use bullet points (`-`) or numbered lists (`1.`, `2.`) to outline key ideas, steps, or concepts where appropriate.\n",
    "    5. **Emphasis:** Highlight important terms, phrases, or points using bold (`**bold**`) or italic (`*italic*`) styling as needed.\n",
    "    6. **Conclusion:** Provide a concluding section summarizing the key takeaways or insights from the text.\n",
    "\n",
    "    Ensure the rewritten text is clear, engaging, and easy to read. You may add clarifying details to enhance understanding but stay true to the original message.\n",
    "    The text to process is below:\n",
    "bonsoir vous êtes les bienvenus dans la boîte à merveilles je vous prie de vous abonner à cette chaîne et de cliquer sur la cloche pour recevoir les prochaines vidéos elle n'oublie pas de faire lire pour soutenir la chaîne je vous invite avant tout un moment d'empathie avec tous ceux qui soufflent dans notre région proche-orient et ailleurs aussi mais comme cette chaîne appartient quand même à un palestinien chrétien je sens que lesmon devoir de rappeler les souffrances dans ma région d'origine peu importe que ceux qui souffrent soient juifs chrétiens musulmans athées ou autres personnes delon en fait d'un choisie sans religion sans famille son prénom ou sa région toussaint septième question de hasard malgré cela netanyahou a exterminé quatorze mille enfants palestinienspour le seul crime ils ne sont pas juifs s'ils étaient juifs tout le monde aurait sursauté elle les aurait protégés mais comme elles ne sont pas juifs on peut les exterminer impunément elle excelle migration se fait avec des armes occidentales avec le soutien des régimes occidentaux sur les plans financier et politique même la mener sur sa faim étrangères françaisestime que natalia roux bénéficie de l'immunité après que la cour pénale internationale ait émis un mandat d'arrêt contre lui contre son ministre de défense les dirigeants français sont\n",
    "\n",
    "\n",
    "Return it in json format as {\"summary\":}\n",
    "\"\"\"\n"
   ]
  },
  {
   "cell_type": "code",
   "execution_count": 37,
   "metadata": {},
   "outputs": [],
   "source": [
    "completion = client.chat.completions.create(\n",
    "    model=\"gpt-4o\",\n",
    "    messages=[\n",
    "        {\"role\": \"assistant\", \"content\": prompt},\n",
    "        {\"role\": \"user\", \"content\": \"bonsoir vous êtes les bienvenus dans la boîte à merveilles je vous prie de vous abonner à cette chaîne et de cliquer sur la cloche pour recevoir les prochaines vidéos elle n'oublie pas de faire lire pour soutenir la chaîne je vous invite avant tout un moment d'empathie avec tous ceux qui soufflent dans notre région proche-orient et ailleurs aussi mais comme cette chaîne appartient quand même à un palestinien chrétien je sens que lesmon devoir de rappeler les souffrances dans ma région d'origine peu importe que ceux qui souffrent soient juifs chrétiens musulmans athées ou autres personnes delon en fait d'un choisie sans religion sans famille son prénom ou sa région toussaint septième question de hasard malgré cela netanyahou a exterminé quatorze mille enfants palestinienspour le seul crime ils ne sont pas juifs s'ils étaient juifs tout le monde aurait sursauté elle les aurait protégés mais comme elles ne sont pas juifs on peut les exterminer impunément elle excelle migration se fait avec des armes occidentales avec le soutien des régimes occidentaux sur les plans financier et politique même la mener sur sa faim étrangères françaisestime que natalia roux bénéficie de l'immunité après que la cour pénale internationale ait émis un mandat d'arrêt contre lui contre son ministre de défense les dirigeants français sont \"}\n",
    "    ],\n",
    "    max_tokens=2000,response_format={ \"type\": \"json_object\" }\n",
    "\n",
    ")"
   ]
  },
  {
   "cell_type": "code",
   "execution_count": 38,
   "metadata": {},
   "outputs": [],
   "source": [
    "import json"
   ]
  },
  {
   "cell_type": "code",
   "execution_count": 39,
   "metadata": {},
   "outputs": [
    {
     "data": {
      "text/plain": [
       "{'summary': \"# Introduction\\nBonsoir et bienvenue dans la boîte à merveilles. Cette communication vise à inciter les auditeurs à s'abonner à la chaîne, à cliquer sur la cloche pour être informés des prochaines vidéos, et à liker pour soutenir le contenu. Ce message est également l'occasion d'exprimer un moment d'empathie pour tous ceux qui souffrent, que ce soit au Proche-Orient ou ailleurs, tout en mettant en avant la perspective particulière du créateur de contenu, un Palestinien chrétien.\\n\\n# Souffrances Dans la Région du Proche-Orient\\nEn tant que Palestinien chrétien, il est perçu comme un devoir de rappeler les souffrances dans la région d'origine, indépendamment des croyances religieuses ou des affiliations identitaires. Que les souffrants soient juifs, chrétiens, musulmans, athées, ou autres, tous méritent soutien et empathie sans distinction nationale ou religieuse.\\n\\n## Points Principaux\\n- **Les Enfants Palestiniens:** La mention de quatorze mille enfants palestiniens tués est mise en exergue. Ces décès sont décrits comme étant perpétrés sous le simple prétexte qu'ils ne sont pas juifs.\\n- **Réactions Internationales:** Il est souligné que si ces enfants avaient été juifs, une protection internationale aurait pu être attendue.\\n- **Soutien Occidental:** La contribution des armes et le soutien des régimes occidentaux, tant sur le plan financier que politique, sont mis en lumière.\\n\\n## Accusations Contre Les Dirigeants Israéliens\\n- L'accusation est dirigée spécifiquement contre Benjamin Netanyahou d'avoir ordonné des décès en raison de cette discrimination religieuse.\\n- **Immunité:** Il est noté que malgré un mandat d'arrêt émis par la Cour pénale internationale contre Netanyahou et son ministre de la défense, les dirigeants français estiment qu'il bénéficie d'une forme d'immunité.\\n\\n# Conclusion\\nLa communication se veut un rappel poignant des injustices perçues et exhorte les spectateurs à réfléchir à ces événements dévastateurs. Le message ambitionne d'inciter à une reconnaissance de ces souffrances au-delà des divisions religieuses ou identitaires, appelant à une action et à une prise de conscience internationales. Cette intervention vise à être un relais de vérité et de compassion, mettant en avant la responsabilité de chacun à s'informer et à agir. \\n\"}"
      ]
     },
     "execution_count": 39,
     "metadata": {},
     "output_type": "execute_result"
    }
   ],
   "source": [
    "json.loads(completion.choices[0].message.content)"
   ]
  },
  {
   "cell_type": "code",
   "execution_count": null,
   "metadata": {},
   "outputs": [],
   "source": []
  }
 ],
 "metadata": {
  "kernelspec": {
   "display_name": "ytarabic",
   "language": "python",
   "name": "python3"
  },
  "language_info": {
   "codemirror_mode": {
    "name": "ipython",
    "version": 3
   },
   "file_extension": ".py",
   "mimetype": "text/x-python",
   "name": "python",
   "nbconvert_exporter": "python",
   "pygments_lexer": "ipython3",
   "version": "3.10.6"
  }
 },
 "nbformat": 4,
 "nbformat_minor": 2
}
